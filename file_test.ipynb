{
 "cells": [
  {
   "cell_type": "code",
   "execution_count": 6,
   "metadata": {},
   "outputs": [
    {
     "name": "stdout",
     "output_type": "stream",
     "text": [
      "['feature1', 'feature2', 'feature3', 'feature4', 'feature5', 'feature6', 'feature7', 'feature8', 'feature9', 'feature10', 'feature11', 'feature12', 'feature13', 'label', 'feature14', 'feature15', 'feature16']\n"
     ]
    }
   ],
   "source": [
    "import pyarrow.parquet as pq\n",
    "\n",
    "# Đường dẫn tới tệp Parquet\n",
    "parquet_file = './data/raw_data/phase-1/prob-1/raw_train.parquet'\n",
    "\n",
    "# Đọc tệp Parquet\n",
    "table = pq.read_table(parquet_file)\n",
    "\n",
    "# Truy cập các cột trong bảng\n",
    "columns = table.column_names\n",
    "print(columns)\n"
   ]
  },
  {
   "cell_type": "code",
   "execution_count": 7,
   "metadata": {},
   "outputs": [
    {
     "name": "stdout",
     "output_type": "stream",
     "text": [
      "        feature1        feature2  feature3  feature4   feature5   feature6   \n",
      "0  Site engineer     grocery_pos      8.60     48230  40.213439 -85.203756  \\\n",
      "1  Site engineer   gas_transport    316.84     48230  44.379391 -82.859721   \n",
      "2  Site engineer     grocery_pos    294.89     48230  42.950657 -84.935542   \n",
      "3  Site engineer    shopping_net    831.08     48230  39.372111 -84.893973   \n",
      "4  Site engineer  health_fitness   1063.84     48230  41.227499 -83.228392   \n",
      "\n",
      "   feature7   feature8   feature9  feature10  feature11  feature12  feature13   \n",
      "0     47583  42.508293 -83.168004  65.596062          3          5          1  \\\n",
      "1     47583  42.661838 -81.966510  64.728795          6          5          1   \n",
      "2     47583  42.580470 -82.408529  65.434606          3          5          1   \n",
      "3     47583  41.948688 -83.919881  64.990422         23          6          1   \n",
      "4     47583  41.544743 -82.123365  65.316083         23          6          1   \n",
      "\n",
      "   label  feature14  feature15  feature16  \n",
      "0      1   8.017865   1.028822  58.911132  \n",
      "1      1  11.768568   1.106217  64.431017  \n",
      "2      1   7.996359   0.899881  57.545348  \n",
      "3      1   8.767720   1.062966  62.681169  \n",
      "4      1   8.816222   0.722446  63.084486  \n"
     ]
    }
   ],
   "source": [
    "# Lấy dữ liệu từ bảng\n",
    "data = table.to_pandas()\n",
    "print(data.head())"
   ]
  },
  {
   "cell_type": "code",
   "execution_count": 10,
   "metadata": {},
   "outputs": [
    {
     "name": "stdout",
     "output_type": "stream",
     "text": [
      "['feature1', 'feature2', 'feature3', 'feature4', 'feature5', 'feature6', 'feature7', 'feature8', 'feature9', 'feature10', 'feature11', 'feature12', 'feature13', 'feature14', 'feature15', 'feature16', 'feature17', 'feature18', 'feature19', 'feature20', 'label']\n"
     ]
    }
   ],
   "source": [
    "import pyarrow.parquet as pq\n",
    "\n",
    "# Đường dẫn tới tệp Parquet\n",
    "parquet_file2 = './data/raw_data/phase-1/prob-2/raw_train.parquet'\n",
    "\n",
    "# Đọc tệp Parquet\n",
    "table2 = pq.read_table(parquet_file2)\n",
    "\n",
    "# Truy cập các cột trong bảng\n",
    "columns2 = table2.column_names\n",
    "print(columns2)\n"
   ]
  },
  {
   "cell_type": "code",
   "execution_count": 12,
   "metadata": {},
   "outputs": [
    {
     "name": "stdout",
     "output_type": "stream",
     "text": [
      "      feature1   feature2 feature3 feature4      feature5 feature6 feature7   \n",
      "59995       V3   5.834186       V2       V0   1549.229155       V0       V4  \\\n",
      "59996       V2  10.379676       V2       V2   2417.228753       V0       V0   \n",
      "59997       V3  11.601652       V2       V0   1488.169842       V0       V2   \n",
      "59998       V1  13.837508       V4       V3  11925.211726       V0       V1   \n",
      "59999       V0  44.446492       V2       V1   2178.636738       V0       V1   \n",
      "\n",
      "       feature8 feature9 feature10  ...  feature12  feature13  feature14   \n",
      "59995       3.0       V2        V2  ...         V0  52.368811       none  \\\n",
      "59996       2.0       V1        V0  ...         V0  70.966537       none   \n",
      "59997       2.0       V2        V0  ...         V1  32.796094       none   \n",
      "59998       2.0       V2        V0  ...         V3  33.884187       none   \n",
      "59999       3.0       V2        V0  ...         V2  27.906868     stores   \n",
      "\n",
      "      feature15 feature16  feature17 feature18  feature19 feature20 label  \n",
      "59995        V1       1.0         V2       2.0       none       yes     0  \n",
      "59996        V1       1.0         V0       1.0       none       yes     0  \n",
      "59997        V1       1.0         V1       1.0       none       yes     0  \n",
      "59998        V1       2.0         V2       1.0       none       yes     0  \n",
      "59999        V1       1.0         V2       2.0       none       yes     0  \n",
      "\n",
      "[5 rows x 21 columns]\n"
     ]
    }
   ],
   "source": [
    "# Lấy dữ liệu từ bảng\n",
    "data2 = table2.to_pandas()\n",
    "print(data2.tail())"
   ]
  },
  {
   "cell_type": "code",
   "execution_count": 21,
   "metadata": {},
   "outputs": [
    {
     "data": {
      "text/plain": [
       "feature1              V1\n",
       "feature2        4.781942\n",
       "feature3              V2\n",
       "feature4              V8\n",
       "feature5     1337.025331\n",
       "feature6              V4\n",
       "feature7              V4\n",
       "feature8             2.0\n",
       "feature9              V2\n",
       "feature10             V0\n",
       "feature11            4.0\n",
       "feature12             V2\n",
       "feature13      35.689494\n",
       "feature14           none\n",
       "feature15             V1\n",
       "feature16            1.0\n",
       "feature17             V2\n",
       "feature18            1.0\n",
       "feature19           none\n",
       "feature20            yes\n",
       "label                  0\n",
       "Name: 0, dtype: object"
      ]
     },
     "execution_count": 21,
     "metadata": {},
     "output_type": "execute_result"
    }
   ],
   "source": [
    "data2.iloc[0]"
   ]
  }
 ],
 "metadata": {
  "kernelspec": {
   "display_name": "Python 3 (ipykernel)",
   "language": "python",
   "name": "python3"
  },
  "language_info": {
   "codemirror_mode": {
    "name": "ipython",
    "version": 3
   },
   "file_extension": ".py",
   "mimetype": "text/x-python",
   "name": "python",
   "nbconvert_exporter": "python",
   "pygments_lexer": "ipython3",
   "version": "3.9.16"
  }
 },
 "nbformat": 4,
 "nbformat_minor": 2
}
